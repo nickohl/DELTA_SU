{
  "nbformat": 4,
  "nbformat_minor": 0,
  "metadata": {
    "colab": {
      "provenance": [],
      "authorship_tag": "ABX9TyPVEHnM2z8jisBeyzvnrO2w",
      "include_colab_link": true
    },
    "kernelspec": {
      "name": "python3",
      "display_name": "Python 3"
    },
    "language_info": {
      "name": "python"
    }
  },
  "cells": [
    {
      "cell_type": "markdown",
      "metadata": {
        "id": "view-in-github",
        "colab_type": "text"
      },
      "source": [
        "<a href=\"https://colab.research.google.com/github/nickohl/DELTA_SU/blob/main/code/pre_process.ipynb\" target=\"_parent\"><img src=\"https://colab.research.google.com/assets/colab-badge.svg\" alt=\"Open In Colab\"/></a>"
      ]
    },
    {
      "cell_type": "code",
      "execution_count": 5,
      "metadata": {
        "colab": {
          "base_uri": "https://localhost:8080/"
        },
        "id": "4KUnUZo0zQqq",
        "outputId": "ef3b001d-a6b2-4127-c1c5-e7dd840e3dd8"
      },
      "outputs": [
        {
          "output_type": "stream",
          "name": "stdout",
          "text": [
            "Looking in indexes: https://pypi.org/simple, https://us-python.pkg.dev/colab-wheels/public/simple/\n",
            "Requirement already satisfied: pandas in /usr/local/lib/python3.7/dist-packages (1.3.5)\n",
            "Requirement already satisfied: numpy>=1.17.3 in /usr/local/lib/python3.7/dist-packages (from pandas) (1.21.6)\n",
            "Requirement already satisfied: python-dateutil>=2.7.3 in /usr/local/lib/python3.7/dist-packages (from pandas) (2.8.2)\n",
            "Requirement already satisfied: pytz>=2017.3 in /usr/local/lib/python3.7/dist-packages (from pandas) (2022.6)\n",
            "Requirement already satisfied: six>=1.5 in /usr/local/lib/python3.7/dist-packages (from python-dateutil>=2.7.3->pandas) (1.15.0)\n",
            "Looking in indexes: https://pypi.org/simple, https://us-python.pkg.dev/colab-wheels/public/simple/\n",
            "Requirement already satisfied: openpyxl in /usr/local/lib/python3.7/dist-packages (3.0.10)\n",
            "Requirement already satisfied: et-xmlfile in /usr/local/lib/python3.7/dist-packages (from openpyxl) (1.1.0)\n"
          ]
        }
      ],
      "source": [
        "!pip install pandas\n",
        "import pandas as pd\n",
        "!pip install openpyxl\n"
      ]
    },
    {
      "cell_type": "code",
      "source": [
        "WV_table = pd.read_excel(\"https://docs.google.com/spreadsheets/d/e/2PACX-1vTpRy5w9M6ikZbx6JEBcgzl9ldoKDCUgvTnaspPxQx-BaEdJSMuR6kC39OXyrbyzvHLGu9_y7GqLJi4/pub?output=xlsx\")\n",
        "WV_table"
      ],
      "metadata": {
        "colab": {
          "base_uri": "https://localhost:8080/",
          "height": 972
        },
        "id": "SRBt57-i0Y2-",
        "outputId": "592324c8-23bf-4949-cc02-8b5283e347eb"
      },
      "execution_count": null,
      "outputs": [
        {
          "output_type": "execute_result",
          "data": {
            "text/plain": [
              "      File             UL LONG              UL LAT             UR LONG  \\\n",
              "0   1033.0 1882-12-27 05:26:00 1901-08-15 09:58:00 1891-07-17 02:02:00   \n",
              "1   1034.0 1899-05-22 15:43:00 1906-08-24 00:44:00 1889-10-30 17:02:00   \n",
              "2   1035.0 1899-07-24 11:25:00 1914-11-01 00:53:00 1889-12-09 22:30:00   \n",
              "3   1036.0 1899-08-05 18:57:00 1912-09-05 14:25:00 1889-12-16 04:54:00   \n",
              "4   1037.0 1899-07-14 21:24:00 1916-12-31 23:12:00 1889-12-02 21:56:00   \n",
              "5   1038.0 1899-06-29 10:07:00 1900-03-10 12:29:00 1889-11-23 01:07:00   \n",
              "6   1040.0 1890-07-16 11:11:00 1902-03-23 09:08:00 1898-04-07 23:20:00   \n",
              "7   1041.0 1882-12-10 01:52:00 1905-10-14 03:55:00 1891-07-10 19:53:00   \n",
              "8   4020.0 1899-06-03 02:08:00 1904-08-23 19:04:00 1889-11-07 04:47:00   \n",
              "9   4021.0 1882-12-17 05:13:00 1903-09-12 09:33:00 1891-07-14 08:14:00   \n",
              "10  5014.0 1899-08-29 17:37:00 1908-06-06 01:06:00 1889-08-08 07:27:00   \n",
              "11  5015.0 1899-08-18 00:19:00 1910-07-19 19:10:00 1889-12-24 08:13:00   \n",
              "12  5016.0 1899-06-16 12:34:00 1902-05-29 05:16:00 1889-11-16 10:17:00   \n",
              "\n",
              "                UR LAT             LR LONG              LR LAT  \\\n",
              "0  1901-08-15 09:58:00 1891-07-17 02:02:00 1915-08-11 11:58:00   \n",
              "1  1906-08-24 00:44:00 1889-10-30 17:02:00 1916-05-25 23:44:00   \n",
              "2  1914-11-01 00:53:00 1889-12-09 22:30:00 1905-12-05 10:10:00   \n",
              "3  1912-09-05 14:25:00 1889-12-16 04:54:00 1904-02-16 13:05:00   \n",
              "4  1916-12-31 23:12:00 1889-12-02 21:56:00 1908-02-05 20:23:00   \n",
              "5  1900-03-10 12:29:00 1889-11-23 01:07:00 1910-04-19 03:59:00   \n",
              "6  1902-03-23 09:08:00 1898-04-07 23:20:00 1916-08-05 03:58:00   \n",
              "7  1905-10-14 03:55:00 1891-07-10 19:53:00 1900-01-22 00:45:00   \n",
              "8  1904-08-23 19:04:00 1889-11-07 04:47:00 1914-05-26 21:14:00   \n",
              "9  1903-09-12 09:33:00 1891-07-14 08:14:00 1916-12-24 18:53:00   \n",
              "10 1908-06-06 01:06:00 1889-08-08 07:27:00 1918-11-23 08:36:00   \n",
              "11 1910-07-19 19:10:00 1889-12-24 08:13:00 1901-12-29 21:00:00   \n",
              "12 1902-05-29 05:16:00 1889-11-16 10:17:00 1912-02-29 10:46:00   \n",
              "\n",
              "               LL LONG              LL LAT         DATE      TIME  \\\n",
              "0  1882-12-27 05:26:00 1915-08-11 11:58:00  31-Aug-2017  16:41:04   \n",
              "1  1899-05-22 15:43:00 1916-05-25 23:44:00  31-Aug-2017  16:42:03   \n",
              "2  1899-07-24 11:25:00 1905-12-05 10:10:00  31-Aug-2017  16:42:05   \n",
              "3  1899-08-05 18:57:00 1904-02-16 13:05:00  31-Aug-2017  16:42:06   \n",
              "4  1899-07-14 21:24:00 1908-02-05 20:23:00  31-Aug-2017  16:42:05   \n",
              "5  1899-06-29 10:07:00 1910-04-19 03:59:00  31-Aug-2017  16:42:04   \n",
              "6  1890-07-16 11:11:00 1916-08-05 03:58:00  31-Aug-2017  16:40:04   \n",
              "7  1882-12-10 01:52:00 1900-01-22 00:45:00  31-Aug-2017  16:41:03   \n",
              "8  1899-06-03 02:08:00 1914-05-26 21:14:00  31-Aug-2017  16:42:03   \n",
              "9  1882-12-17 05:13:00 1916-12-24 18:53:00  31-Aug-2017  16:41:04   \n",
              "10 1899-08-29 17:37:00 1918-11-23 08:36:00  31-Aug-2017  16:42:07   \n",
              "11 1899-08-18 00:19:00 1901-12-29 21:00:00  31-Aug-2017  16:42:06   \n",
              "12 1899-06-16 12:34:00 1912-02-29 10:46:00  31-Aug-2017  16:42:04   \n",
              "\n",
              "                                     File number USGS  \n",
              "0   WV02N29_953089W094_6689992017083100000000MS00_...  \n",
              "1   WV02N30_105918W094_7826442017083100000000MS00_...  \n",
              "2   WV02N29_545917W094_7752302017083100000000MS00_...  \n",
              "3   WV02N29_441920W094_7738862017083100000000MS00_...  \n",
              "4   WV02N29_660325W094_7767432017083100000000MS00_...  \n",
              "5   WV02N29_775705W094_7782412017083100000000MS00_...  \n",
              "6   WV02N29_994833W094_2935122017083100000000MS00_...  \n",
              "7   WV02N30_153583W094_6706882017083100000000MS00_...  \n",
              "8   WV02N30_000773W094_7812762017083100000000MS00_...  \n",
              "9   WV02N30_043753W094_6699192017083100000000MS00_...  \n",
              "10  WV02N29_218496W094_7815162017083100000000MS00_...  \n",
              "11  WV02N29_329782W094_7724132017083100000000MS00_...  \n",
              "12  WV02N29_883053W094_7796532017083100000000MS00_...  "
            ],
            "text/html": [
              "\n",
              "  <div id=\"df-a1c38e5d-e607-4b8a-a478-2ca3e4b593e7\">\n",
              "    <div class=\"colab-df-container\">\n",
              "      <div>\n",
              "<style scoped>\n",
              "    .dataframe tbody tr th:only-of-type {\n",
              "        vertical-align: middle;\n",
              "    }\n",
              "\n",
              "    .dataframe tbody tr th {\n",
              "        vertical-align: top;\n",
              "    }\n",
              "\n",
              "    .dataframe thead th {\n",
              "        text-align: right;\n",
              "    }\n",
              "</style>\n",
              "<table border=\"1\" class=\"dataframe\">\n",
              "  <thead>\n",
              "    <tr style=\"text-align: right;\">\n",
              "      <th></th>\n",
              "      <th>File</th>\n",
              "      <th>UL LONG</th>\n",
              "      <th>UL LAT</th>\n",
              "      <th>UR LONG</th>\n",
              "      <th>UR LAT</th>\n",
              "      <th>LR LONG</th>\n",
              "      <th>LR LAT</th>\n",
              "      <th>LL LONG</th>\n",
              "      <th>LL LAT</th>\n",
              "      <th>DATE</th>\n",
              "      <th>TIME</th>\n",
              "      <th>File number USGS</th>\n",
              "    </tr>\n",
              "  </thead>\n",
              "  <tbody>\n",
              "    <tr>\n",
              "      <th>0</th>\n",
              "      <td>1033.0</td>\n",
              "      <td>1882-12-27 05:26:00</td>\n",
              "      <td>1901-08-15 09:58:00</td>\n",
              "      <td>1891-07-17 02:02:00</td>\n",
              "      <td>1901-08-15 09:58:00</td>\n",
              "      <td>1891-07-17 02:02:00</td>\n",
              "      <td>1915-08-11 11:58:00</td>\n",
              "      <td>1882-12-27 05:26:00</td>\n",
              "      <td>1915-08-11 11:58:00</td>\n",
              "      <td>31-Aug-2017</td>\n",
              "      <td>16:41:04</td>\n",
              "      <td>WV02N29_953089W094_6689992017083100000000MS00_...</td>\n",
              "    </tr>\n",
              "    <tr>\n",
              "      <th>1</th>\n",
              "      <td>1034.0</td>\n",
              "      <td>1899-05-22 15:43:00</td>\n",
              "      <td>1906-08-24 00:44:00</td>\n",
              "      <td>1889-10-30 17:02:00</td>\n",
              "      <td>1906-08-24 00:44:00</td>\n",
              "      <td>1889-10-30 17:02:00</td>\n",
              "      <td>1916-05-25 23:44:00</td>\n",
              "      <td>1899-05-22 15:43:00</td>\n",
              "      <td>1916-05-25 23:44:00</td>\n",
              "      <td>31-Aug-2017</td>\n",
              "      <td>16:42:03</td>\n",
              "      <td>WV02N30_105918W094_7826442017083100000000MS00_...</td>\n",
              "    </tr>\n",
              "    <tr>\n",
              "      <th>2</th>\n",
              "      <td>1035.0</td>\n",
              "      <td>1899-07-24 11:25:00</td>\n",
              "      <td>1914-11-01 00:53:00</td>\n",
              "      <td>1889-12-09 22:30:00</td>\n",
              "      <td>1914-11-01 00:53:00</td>\n",
              "      <td>1889-12-09 22:30:00</td>\n",
              "      <td>1905-12-05 10:10:00</td>\n",
              "      <td>1899-07-24 11:25:00</td>\n",
              "      <td>1905-12-05 10:10:00</td>\n",
              "      <td>31-Aug-2017</td>\n",
              "      <td>16:42:05</td>\n",
              "      <td>WV02N29_545917W094_7752302017083100000000MS00_...</td>\n",
              "    </tr>\n",
              "    <tr>\n",
              "      <th>3</th>\n",
              "      <td>1036.0</td>\n",
              "      <td>1899-08-05 18:57:00</td>\n",
              "      <td>1912-09-05 14:25:00</td>\n",
              "      <td>1889-12-16 04:54:00</td>\n",
              "      <td>1912-09-05 14:25:00</td>\n",
              "      <td>1889-12-16 04:54:00</td>\n",
              "      <td>1904-02-16 13:05:00</td>\n",
              "      <td>1899-08-05 18:57:00</td>\n",
              "      <td>1904-02-16 13:05:00</td>\n",
              "      <td>31-Aug-2017</td>\n",
              "      <td>16:42:06</td>\n",
              "      <td>WV02N29_441920W094_7738862017083100000000MS00_...</td>\n",
              "    </tr>\n",
              "    <tr>\n",
              "      <th>4</th>\n",
              "      <td>1037.0</td>\n",
              "      <td>1899-07-14 21:24:00</td>\n",
              "      <td>1916-12-31 23:12:00</td>\n",
              "      <td>1889-12-02 21:56:00</td>\n",
              "      <td>1916-12-31 23:12:00</td>\n",
              "      <td>1889-12-02 21:56:00</td>\n",
              "      <td>1908-02-05 20:23:00</td>\n",
              "      <td>1899-07-14 21:24:00</td>\n",
              "      <td>1908-02-05 20:23:00</td>\n",
              "      <td>31-Aug-2017</td>\n",
              "      <td>16:42:05</td>\n",
              "      <td>WV02N29_660325W094_7767432017083100000000MS00_...</td>\n",
              "    </tr>\n",
              "    <tr>\n",
              "      <th>5</th>\n",
              "      <td>1038.0</td>\n",
              "      <td>1899-06-29 10:07:00</td>\n",
              "      <td>1900-03-10 12:29:00</td>\n",
              "      <td>1889-11-23 01:07:00</td>\n",
              "      <td>1900-03-10 12:29:00</td>\n",
              "      <td>1889-11-23 01:07:00</td>\n",
              "      <td>1910-04-19 03:59:00</td>\n",
              "      <td>1899-06-29 10:07:00</td>\n",
              "      <td>1910-04-19 03:59:00</td>\n",
              "      <td>31-Aug-2017</td>\n",
              "      <td>16:42:04</td>\n",
              "      <td>WV02N29_775705W094_7782412017083100000000MS00_...</td>\n",
              "    </tr>\n",
              "    <tr>\n",
              "      <th>6</th>\n",
              "      <td>1040.0</td>\n",
              "      <td>1890-07-16 11:11:00</td>\n",
              "      <td>1902-03-23 09:08:00</td>\n",
              "      <td>1898-04-07 23:20:00</td>\n",
              "      <td>1902-03-23 09:08:00</td>\n",
              "      <td>1898-04-07 23:20:00</td>\n",
              "      <td>1916-08-05 03:58:00</td>\n",
              "      <td>1890-07-16 11:11:00</td>\n",
              "      <td>1916-08-05 03:58:00</td>\n",
              "      <td>31-Aug-2017</td>\n",
              "      <td>16:40:04</td>\n",
              "      <td>WV02N29_994833W094_2935122017083100000000MS00_...</td>\n",
              "    </tr>\n",
              "    <tr>\n",
              "      <th>7</th>\n",
              "      <td>1041.0</td>\n",
              "      <td>1882-12-10 01:52:00</td>\n",
              "      <td>1905-10-14 03:55:00</td>\n",
              "      <td>1891-07-10 19:53:00</td>\n",
              "      <td>1905-10-14 03:55:00</td>\n",
              "      <td>1891-07-10 19:53:00</td>\n",
              "      <td>1900-01-22 00:45:00</td>\n",
              "      <td>1882-12-10 01:52:00</td>\n",
              "      <td>1900-01-22 00:45:00</td>\n",
              "      <td>31-Aug-2017</td>\n",
              "      <td>16:41:03</td>\n",
              "      <td>WV02N30_153583W094_6706882017083100000000MS00_...</td>\n",
              "    </tr>\n",
              "    <tr>\n",
              "      <th>8</th>\n",
              "      <td>4020.0</td>\n",
              "      <td>1899-06-03 02:08:00</td>\n",
              "      <td>1904-08-23 19:04:00</td>\n",
              "      <td>1889-11-07 04:47:00</td>\n",
              "      <td>1904-08-23 19:04:00</td>\n",
              "      <td>1889-11-07 04:47:00</td>\n",
              "      <td>1914-05-26 21:14:00</td>\n",
              "      <td>1899-06-03 02:08:00</td>\n",
              "      <td>1914-05-26 21:14:00</td>\n",
              "      <td>31-Aug-2017</td>\n",
              "      <td>16:42:03</td>\n",
              "      <td>WV02N30_000773W094_7812762017083100000000MS00_...</td>\n",
              "    </tr>\n",
              "    <tr>\n",
              "      <th>9</th>\n",
              "      <td>4021.0</td>\n",
              "      <td>1882-12-17 05:13:00</td>\n",
              "      <td>1903-09-12 09:33:00</td>\n",
              "      <td>1891-07-14 08:14:00</td>\n",
              "      <td>1903-09-12 09:33:00</td>\n",
              "      <td>1891-07-14 08:14:00</td>\n",
              "      <td>1916-12-24 18:53:00</td>\n",
              "      <td>1882-12-17 05:13:00</td>\n",
              "      <td>1916-12-24 18:53:00</td>\n",
              "      <td>31-Aug-2017</td>\n",
              "      <td>16:41:04</td>\n",
              "      <td>WV02N30_043753W094_6699192017083100000000MS00_...</td>\n",
              "    </tr>\n",
              "    <tr>\n",
              "      <th>10</th>\n",
              "      <td>5014.0</td>\n",
              "      <td>1899-08-29 17:37:00</td>\n",
              "      <td>1908-06-06 01:06:00</td>\n",
              "      <td>1889-08-08 07:27:00</td>\n",
              "      <td>1908-06-06 01:06:00</td>\n",
              "      <td>1889-08-08 07:27:00</td>\n",
              "      <td>1918-11-23 08:36:00</td>\n",
              "      <td>1899-08-29 17:37:00</td>\n",
              "      <td>1918-11-23 08:36:00</td>\n",
              "      <td>31-Aug-2017</td>\n",
              "      <td>16:42:07</td>\n",
              "      <td>WV02N29_218496W094_7815162017083100000000MS00_...</td>\n",
              "    </tr>\n",
              "    <tr>\n",
              "      <th>11</th>\n",
              "      <td>5015.0</td>\n",
              "      <td>1899-08-18 00:19:00</td>\n",
              "      <td>1910-07-19 19:10:00</td>\n",
              "      <td>1889-12-24 08:13:00</td>\n",
              "      <td>1910-07-19 19:10:00</td>\n",
              "      <td>1889-12-24 08:13:00</td>\n",
              "      <td>1901-12-29 21:00:00</td>\n",
              "      <td>1899-08-18 00:19:00</td>\n",
              "      <td>1901-12-29 21:00:00</td>\n",
              "      <td>31-Aug-2017</td>\n",
              "      <td>16:42:06</td>\n",
              "      <td>WV02N29_329782W094_7724132017083100000000MS00_...</td>\n",
              "    </tr>\n",
              "    <tr>\n",
              "      <th>12</th>\n",
              "      <td>5016.0</td>\n",
              "      <td>1899-06-16 12:34:00</td>\n",
              "      <td>1902-05-29 05:16:00</td>\n",
              "      <td>1889-11-16 10:17:00</td>\n",
              "      <td>1902-05-29 05:16:00</td>\n",
              "      <td>1889-11-16 10:17:00</td>\n",
              "      <td>1912-02-29 10:46:00</td>\n",
              "      <td>1899-06-16 12:34:00</td>\n",
              "      <td>1912-02-29 10:46:00</td>\n",
              "      <td>31-Aug-2017</td>\n",
              "      <td>16:42:04</td>\n",
              "      <td>WV02N29_883053W094_7796532017083100000000MS00_...</td>\n",
              "    </tr>\n",
              "  </tbody>\n",
              "</table>\n",
              "</div>\n",
              "      <button class=\"colab-df-convert\" onclick=\"convertToInteractive('df-a1c38e5d-e607-4b8a-a478-2ca3e4b593e7')\"\n",
              "              title=\"Convert this dataframe to an interactive table.\"\n",
              "              style=\"display:none;\">\n",
              "        \n",
              "  <svg xmlns=\"http://www.w3.org/2000/svg\" height=\"24px\"viewBox=\"0 0 24 24\"\n",
              "       width=\"24px\">\n",
              "    <path d=\"M0 0h24v24H0V0z\" fill=\"none\"/>\n",
              "    <path d=\"M18.56 5.44l.94 2.06.94-2.06 2.06-.94-2.06-.94-.94-2.06-.94 2.06-2.06.94zm-11 1L8.5 8.5l.94-2.06 2.06-.94-2.06-.94L8.5 2.5l-.94 2.06-2.06.94zm10 10l.94 2.06.94-2.06 2.06-.94-2.06-.94-.94-2.06-.94 2.06-2.06.94z\"/><path d=\"M17.41 7.96l-1.37-1.37c-.4-.4-.92-.59-1.43-.59-.52 0-1.04.2-1.43.59L10.3 9.45l-7.72 7.72c-.78.78-.78 2.05 0 2.83L4 21.41c.39.39.9.59 1.41.59.51 0 1.02-.2 1.41-.59l7.78-7.78 2.81-2.81c.8-.78.8-2.07 0-2.86zM5.41 20L4 18.59l7.72-7.72 1.47 1.35L5.41 20z\"/>\n",
              "  </svg>\n",
              "      </button>\n",
              "      \n",
              "  <style>\n",
              "    .colab-df-container {\n",
              "      display:flex;\n",
              "      flex-wrap:wrap;\n",
              "      gap: 12px;\n",
              "    }\n",
              "\n",
              "    .colab-df-convert {\n",
              "      background-color: #E8F0FE;\n",
              "      border: none;\n",
              "      border-radius: 50%;\n",
              "      cursor: pointer;\n",
              "      display: none;\n",
              "      fill: #1967D2;\n",
              "      height: 32px;\n",
              "      padding: 0 0 0 0;\n",
              "      width: 32px;\n",
              "    }\n",
              "\n",
              "    .colab-df-convert:hover {\n",
              "      background-color: #E2EBFA;\n",
              "      box-shadow: 0px 1px 2px rgba(60, 64, 67, 0.3), 0px 1px 3px 1px rgba(60, 64, 67, 0.15);\n",
              "      fill: #174EA6;\n",
              "    }\n",
              "\n",
              "    [theme=dark] .colab-df-convert {\n",
              "      background-color: #3B4455;\n",
              "      fill: #D2E3FC;\n",
              "    }\n",
              "\n",
              "    [theme=dark] .colab-df-convert:hover {\n",
              "      background-color: #434B5C;\n",
              "      box-shadow: 0px 1px 3px 1px rgba(0, 0, 0, 0.15);\n",
              "      filter: drop-shadow(0px 1px 2px rgba(0, 0, 0, 0.3));\n",
              "      fill: #FFFFFF;\n",
              "    }\n",
              "  </style>\n",
              "\n",
              "      <script>\n",
              "        const buttonEl =\n",
              "          document.querySelector('#df-a1c38e5d-e607-4b8a-a478-2ca3e4b593e7 button.colab-df-convert');\n",
              "        buttonEl.style.display =\n",
              "          google.colab.kernel.accessAllowed ? 'block' : 'none';\n",
              "\n",
              "        async function convertToInteractive(key) {\n",
              "          const element = document.querySelector('#df-a1c38e5d-e607-4b8a-a478-2ca3e4b593e7');\n",
              "          const dataTable =\n",
              "            await google.colab.kernel.invokeFunction('convertToInteractive',\n",
              "                                                     [key], {});\n",
              "          if (!dataTable) return;\n",
              "\n",
              "          const docLinkHtml = 'Like what you see? Visit the ' +\n",
              "            '<a target=\"_blank\" href=https://colab.research.google.com/notebooks/data_table.ipynb>data table notebook</a>'\n",
              "            + ' to learn more about interactive tables.';\n",
              "          element.innerHTML = '';\n",
              "          dataTable['output_type'] = 'display_data';\n",
              "          await google.colab.output.renderOutput(dataTable, element);\n",
              "          const docLink = document.createElement('div');\n",
              "          docLink.innerHTML = docLinkHtml;\n",
              "          element.appendChild(docLink);\n",
              "        }\n",
              "      </script>\n",
              "    </div>\n",
              "  </div>\n",
              "  "
            ]
          },
          "metadata": {},
          "execution_count": 3
        }
      ]
    },
    {
      "cell_type": "markdown",
      "source": [
        "Use coordinates and file number on https://hddsexplorer.usgs.gov to find file for each file. For events select \"202002 exercise ironfist\". Create an account and download file."
      ],
      "metadata": {
        "id": "FidA6nkU3jfp"
      }
    },
    {
      "cell_type": "markdown",
      "source": [
        "This create the image file, which is ready to use. For creating a label, used ArcGIS along with DEM file and watershed file from ESRI to define water and land label."
      ],
      "metadata": {
        "id": "c9vtiiAK4K-8"
      }
    },
    {
      "cell_type": "code",
      "source": [
        "!pip install pillow\n",
        "from PIL import Image"
      ],
      "metadata": {
        "id": "VFSV0nDm6reH",
        "outputId": "ca037383-6a22-4a7a-9c6b-a2a27dce1c87",
        "colab": {
          "base_uri": "https://localhost:8080/"
        }
      },
      "execution_count": 1,
      "outputs": [
        {
          "output_type": "stream",
          "name": "stdout",
          "text": [
            "Looking in indexes: https://pypi.org/simple, https://us-python.pkg.dev/colab-wheels/public/simple/\n",
            "Requirement already satisfied: pillow in /usr/local/lib/python3.7/dist-packages (7.1.2)\n"
          ]
        }
      ]
    },
    {
      "cell_type": "code",
      "source": [
        "#import image from directory\n",
        "WV_1034_image = Image.open(\"filepath/WV_1034_image.tif\")\n",
        "WV_1034_label = Image.open(\"filepath/WV_1034_label.tif\")"
      ],
      "metadata": {
        "id": "kUdE6bJLGl_s"
      },
      "execution_count": null,
      "outputs": []
    },
    {
      "cell_type": "code",
      "source": [
        "#install python3, GDAL, GDAL-python byndings\n",
        "git clone http://github.com/nasa/delta\n",
        "python3 -m pip install delta"
      ],
      "metadata": {
        "colab": {
          "base_uri": "https://localhost:8080/",
          "height": 130
        },
        "id": "FcWsKevRGusg",
        "outputId": "31c781dd-9db9-4b6e-fadc-e8ec96bf1846"
      },
      "execution_count": 14,
      "outputs": [
        {
          "output_type": "error",
          "ename": "SyntaxError",
          "evalue": "ignored",
          "traceback": [
            "\u001b[0;36m  File \u001b[0;32m\"<ipython-input-14-275720b48dc6>\"\u001b[0;36m, line \u001b[0;32m2\u001b[0m\n\u001b[0;31m    python3 -m pip install delta\u001b[0m\n\u001b[0m                 ^\u001b[0m\n\u001b[0;31mSyntaxError\u001b[0m\u001b[0;31m:\u001b[0m invalid syntax\n"
          ]
        }
      ]
    },
    {
      "cell_type": "code",
      "source": [
        "#put images in the right directory\n",
        "mv WV_1034_image train\n",
        "mv WV_1034_label label"
      ],
      "metadata": {
        "colab": {
          "base_uri": "https://localhost:8080/"
        },
        "id": "6pN98KphLjHc",
        "outputId": "19e235bb-b14c-4597-8784-cc94d85b0ca5"
      },
      "execution_count": 15,
      "outputs": [
        {
          "output_type": "stream",
          "name": "stdout",
          "text": [
            "\u001b[0m\u001b[01;34msample_data\u001b[0m/\n"
          ]
        }
      ]
    },
    {
      "cell_type": "code",
      "source": [
        "#run train code\n",
        "delta train --config WV_dataset.yaml --config WV_train_network.yaml --config WV_train_parameters.yaml WV_DELTA_train.SavedModel 2>/dev/null"
      ],
      "metadata": {
        "id": "y8Rff7P0MRSR"
      },
      "execution_count": null,
      "outputs": []
    },
    {
      "cell_type": "code",
      "source": [
        "#run classify code\n",
        "delta classify --config WV_dataset.yaml --image-dir ./validate --outdir ./model_output --overlap 32 WV_delta_classify.SavedModel 2>/dev/null"
      ],
      "metadata": {
        "id": "b8oZB47kMYtA"
      },
      "execution_count": null,
      "outputs": []
    }
  ]
}