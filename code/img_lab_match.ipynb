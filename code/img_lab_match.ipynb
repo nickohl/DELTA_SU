{
  "nbformat": 4,
  "nbformat_minor": 0,
  "metadata": {
    "colab": {
      "provenance": [],
      "include_colab_link": true
    },
    "kernelspec": {
      "name": "python3",
      "display_name": "Python 3"
    },
    "language_info": {
      "name": "python"
    },
    "accelerator": "GPU",
    "gpuClass": "standard"
  },
  "cells": [
    {
      "cell_type": "markdown",
      "metadata": {
        "id": "view-in-github",
        "colab_type": "text"
      },
      "source": [
        "<a href=\"https://colab.research.google.com/github/nickohl/DELTA_SU/blob/main/code/img_lab_match.ipynb\" target=\"_parent\"><img src=\"https://colab.research.google.com/assets/colab-badge.svg\" alt=\"Open In Colab\"/></a>"
      ]
    },
    {
      "cell_type": "code",
      "execution_count": null,
      "metadata": {
        "colab": {
          "base_uri": "https://localhost:8080/"
        },
        "id": "bLF_73wU6L7E",
        "outputId": "edcc242a-19c1-497f-de74-520e2b1ae182"
      },
      "outputs": [
        {
          "output_type": "stream",
          "name": "stdout",
          "text": [
            "Mounted at /content/drive\n"
          ]
        }
      ],
      "source": [
        "#attach to Google Drive\n",
        "from google.colab import drive\n",
        "drive.mount('/content/drive')\n"
      ]
    },
    {
      "cell_type": "code",
      "source": [
        "ls /content/drive/MyDrive/Thesis_Images/"
      ],
      "metadata": {
        "colab": {
          "base_uri": "https://localhost:8080/"
        },
        "id": "eccfS8AF6XLJ",
        "outputId": "afb3126e-04b2-4375-bad2-30a2ef38aa41"
      },
      "execution_count": null,
      "outputs": [
        {
          "output_type": "stream",
          "name": "stdout",
          "text": [
            "\u001b[0m\u001b[01;34mimg\u001b[0m/  Label_Screenshot.png  S1_1033_label.tif\n",
            "\u001b[01;34mlab\u001b[0m/  S1_1033_image.tif     UVSR_1034_Img.tif\n"
          ]
        }
      ]
    },
    {
      "cell_type": "code",
      "source": [
        "ls /content/drive/MyDrive/Thesis_Images/img"
      ],
      "metadata": {
        "colab": {
          "base_uri": "https://localhost:8080/"
        },
        "id": "PfanOt_-8T9u",
        "outputId": "9a781937-28d6-4713-c0db-7c58844ddcb2"
      },
      "execution_count": null,
      "outputs": [
        {
          "output_type": "stream",
          "name": "stdout",
          "text": [
            "WV_1033.tif\n"
          ]
        }
      ]
    },
    {
      "cell_type": "code",
      "source": [
        "ls /content/drive/MyDrive/Thesis_Images/lab"
      ],
      "metadata": {
        "colab": {
          "base_uri": "https://localhost:8080/"
        },
        "id": "HbQP4QRGbDg4",
        "outputId": "80894975-06b4-4f82-f860-da335352928c"
      },
      "execution_count": null,
      "outputs": [
        {
          "output_type": "stream",
          "name": "stdout",
          "text": [
            "WV_1033.tif\n"
          ]
        }
      ]
    },
    {
      "cell_type": "code",
      "source": [
        "# error check loop\n",
        "# 1. confirm that there is a label for every image\n",
        "# 2. confirm that they are in the same CRS\n",
        "# 3. confirm that they overlap\n",
        "# 4. confirm that they are of the same dimensions\n",
        "# 5. confirm that there are no nan values\n",
        "# 6. confirm that there are the same number of class values per image\n",
        "\n",
        "\n",
        "\n",
        "\n",
        "import pandas as pd\n",
        "import os\n",
        "from osgeo import gdal\n",
        "import numpy\n",
        "# Change to your image directory\n",
        "os.chdir('/content/drive/MyDrive/Thesis_Images/img')\n",
        "check = []\n",
        "files = glob.glob('*.tif')\n",
        "#labs = glob.glob('/lab')\n",
        "for file in files:\n",
        "  lab_file = os.path.join('../lab', file)\n",
        "  if os.path.exists(lab_file):\n",
        "    labTF = True\n",
        "\n",
        "    raster1 = gdal.Open(file)\n",
        "    raster2 = gdal.Open(lab_file)\n",
        "    \n",
        "    # band1 = raster1.GetRasterBand(1)\n",
        "    # band2 = raster2.GetRasterBand(1)\n",
        "    gt1 = raster1.GetGeoTransform()\n",
        "    gt2 = raster2.GetGeoTransform()\n",
        "    \n",
        "    # find each image's bounding box\n",
        "    # r1 has left, top, right, bottom of dataset's bounds in geospatial coordinates.\n",
        "    r1 = [gt1[0], gt1[3], gt1[0] + (gt1[1] * raster1.RasterXSize), gt1[3] + (gt1[5] * raster1.RasterYSize)]\n",
        "    r2 = [gt2[0], gt2[3], gt2[0] + (gt2[1] * raster2.RasterXSize), gt2[3] + (gt2[5] * raster2.RasterYSize)]\n",
        "\n",
        "    #r1 = numpy.array(ds1.ReadAsArray())\n",
        "    #r2 = numpy.array(ds2.ReadAsArray())\n",
        "    x_img = raster1.RasterXSize\n",
        "    y_img = raster1.RasterYSize\n",
        "    x_lab = raster2.RasterXSize\n",
        "    y_lab = raster2.RasterYSize\n",
        "    if r1 != r2:\n",
        "      intersectTF = False\n",
        "    else:\n",
        "      intersectTF = True\n",
        "\n",
        "    if x_img != x_lab | y_img != y_lab:\n",
        "      samesizeTF = True\n",
        "    else:\n",
        "      samesizeTF = False\n",
        "    nanTF_img = numpy.isnan(numpy.array(raster1.ReadAsArray())).any()\n",
        "    nanTF_lab = numpy.isnan(numpy.array(raster1.ReadAsArray())).any()\n",
        "    lablevs = numpy.unique(numpy.array(raster2.ReadAsArray()))\n",
        "  else:\n",
        "    labTF = False\n",
        "    intersectTF = samesizeTF=nanTF_img = nanTF_lab = lablevs= numpy.nan\n",
        "    r1 = r2 = [numpy.nan, numpy.nan, numpy.nan, numpy.nan]\n",
        "    x_img = y_img = x_lab = y_lab = numpy.nan\n",
        "check.append([file, labTF, intersectTF,r1, r2, samesizeTF, x_img, y_img, x_lab, y_lab, nanTF_img, nanTF_lab, lablevs])\n",
        "\n"
      ],
      "metadata": {
        "id": "uLn1dd7w6fhI"
      },
      "execution_count": null,
      "outputs": []
    },
    {
      "cell_type": "code",
      "source": [],
      "metadata": {
        "id": "VgqeR3-xhHwN"
      },
      "execution_count": null,
      "outputs": []
    },
    {
      "cell_type": "code",
      "source": [
        "check"
      ],
      "metadata": {
        "colab": {
          "base_uri": "https://localhost:8080/"
        },
        "id": "8rrjzaPXcGGc",
        "outputId": "25bb1b6c-0d53-4b1d-d999-2081da948ffe"
      },
      "execution_count": null,
      "outputs": [
        {
          "output_type": "execute_result",
          "data": {
            "text/plain": [
              "[['WV_1033.tif',\n",
              "  True,\n",
              "  False,\n",
              "  [-94.89393136531177,\n",
              "   30.08527183536001,\n",
              "   -94.444095798487,\n",
              "   29.820985835360013],\n",
              "  [-94.89255172858091,\n",
              "   30.07810000398323,\n",
              "   -94.46566909201842,\n",
              "   29.84061772117073],\n",
              "  True,\n",
              "  24401,\n",
              "  14336,\n",
              "  23332,\n",
              "  12980,\n",
              "  False,\n",
              "  False,\n",
              "  array([  0,   1, 255], dtype=uint16)]]"
            ]
          },
          "metadata": {},
          "execution_count": 2
        }
      ]
    }
  ]
}