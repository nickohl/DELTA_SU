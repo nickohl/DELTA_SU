{
  "cells": [
    {
      "cell_type": "markdown",
      "metadata": {
        "id": "view-in-github",
        "colab_type": "text"
      },
      "source": [
        "<a href=\"https://colab.research.google.com/github/nickohl/DELTA_SU/blob/main/code/DEM_NED.ipynb\" target=\"_parent\"><img src=\"https://colab.research.google.com/assets/colab-badge.svg\" alt=\"Open In Colab\"/></a>"
      ]
    },
    {
      "cell_type": "markdown",
      "metadata": {
        "id": "AM5pTkz5uufL"
      },
      "source": [
        "[![image](https://jupyterlite.rtfd.io/en/latest/_static/badge.svg)](https://demo.leafmap.org/lab/index.html?path=notebooks/56_download_ned.ipynb)\n",
        "[![image](https://studiolab.sagemaker.aws/studiolab.svg)](https://studiolab.sagemaker.aws/import/github/giswqs/leafmap/blob/master/examples/notebooks/56_download_ned.ipynb)\n",
        "[![image](https://img.shields.io/badge/Open-Planetary%20Computer-black?style=flat&logo=microsoft)](https://pccompute.westeurope.cloudapp.azure.com/compute/hub/user-redirect/git-pull?repo=https://github.com/giswqs/leafmap&urlpath=lab/tree/leafmap/examples/notebooks/56_download_ned.ipynb&branch=master)\n",
        "[![image](https://colab.research.google.com/assets/colab-badge.svg)](https://githubtocolab.com/giswqs/leafmap/blob/master/examples/notebooks/56_download_ned.ipynb)\n",
        "[![image](https://mybinder.org/badge_logo.svg)](https://gishub.org/leafmap-binder)\n",
        "\n",
        "**Downloading 10-m National Elevation Dataset (NED) with only one line of code**"
      ],
      "id": "AM5pTkz5uufL"
    },
    {
      "cell_type": "code",
      "execution_count": null,
      "metadata": {
        "id": "oIdnL0gRuufR"
      },
      "outputs": [],
      "source": [
        "# !pip install leafmap"
      ],
      "id": "oIdnL0gRuufR"
    },
    {
      "cell_type": "code",
      "execution_count": null,
      "metadata": {
        "id": "FMx5h30EuufU"
      },
      "outputs": [],
      "source": [
        "# !pip install geopandas rasterio"
      ],
      "id": "FMx5h30EuufU"
    },
    {
      "cell_type": "code",
      "execution_count": null,
      "metadata": {
        "id": "xDEjmyWluufV"
      },
      "outputs": [],
      "source": [
        "import os\n",
        "import leafmap\n",
        "import shutil\n",
        "import sys"
      ],
      "id": "xDEjmyWluufV"
    },
    {
      "cell_type": "code",
      "execution_count": null,
      "metadata": {
        "id": "50Mdh9HOuufW"
      },
      "outputs": [],
      "source": [
        "m = leafmap.Map(center=[40, -100], zoom=4)\n",
        "m"
      ],
      "id": "50Mdh9HOuufW"
    },
    {
      "cell_type": "code",
      "execution_count": null,
      "metadata": {
        "id": "ymra6JyAuufW"
      },
      "outputs": [],
      "source": [
        "region = m.user_roi_bounds()\n",
        "if region is None:\n",
        "    region = [-115.9689, 35.9758, -115.3619, 36.4721]\n",
        "print(region)"
      ],
      "id": "ymra6JyAuufW"
    },
    {
      "cell_type": "code",
      "execution_count": null,
      "metadata": {
        "id": "d2vpLx8_uufX"
      },
      "outputs": [],
      "source": [
        "leafmap.download_ned(region, return_url=True)"
      ],
      "id": "d2vpLx8_uufX"
    },
    {
      "cell_type": "code",
      "execution_count": null,
      "metadata": {
        "id": "DwQxO41auufY"
      },
      "outputs": [],
      "source": [
        "out_dir = \"data\"\n",
        "os.makedirs(out_dir, exist_ok=True)"
      ],
      "id": "DwQxO41auufY"
    },
    {
      "cell_type": "code",
      "execution_count": null,
      "metadata": {
        "id": "C7_W4slTuufZ"
      },
      "outputs": [],
      "source": [
        "if \"google.colab\" in sys.modules:\n",
        "    leafmap.download_ned(region, out_dir)"
      ],
      "id": "C7_W4slTuufZ"
    },
    {
      "cell_type": "code",
      "execution_count": null,
      "metadata": {
        "id": "5lvdy45_uufa"
      },
      "outputs": [],
      "source": [
        "if \"google.colab\" in sys.modules:\n",
        "    mosaic = \"mosaic.tif\"\n",
        "    leafmap.mosaic(images=out_dir, output=mosaic)"
      ],
      "id": "5lvdy45_uufa"
    },
    {
      "cell_type": "code",
      "execution_count": null,
      "metadata": {
        "id": "11DiUtjXuufb"
      },
      "outputs": [],
      "source": [
        "if \"google.colab\" in sys.modules and (m.user_roi is not None):\n",
        "    image = 'dem.tif'\n",
        "    leafmap.clip_image(mosaic, mask=m.user_roi, output=image)"
      ],
      "id": "11DiUtjXuufb"
    },
    {
      "cell_type": "code",
      "execution_count": null,
      "metadata": {
        "id": "woF9qrAluufc"
      },
      "outputs": [],
      "source": [
        "out_dir = '/content/drive/MyDrive/Data'\n",
        "if os.path.exists(out_dir) and os.path.exists(image):\n",
        "    shutil.copyfile(image, os.path.join(out_dir, image))"
      ],
      "id": "woF9qrAluufc"
    }
  ],
  "metadata": {
    "kernelspec": {
      "display_name": "Python 3",
      "language": "python",
      "name": "python3"
    },
    "colab": {
      "provenance": [],
      "include_colab_link": true
    }
  },
  "nbformat": 4,
  "nbformat_minor": 5
}